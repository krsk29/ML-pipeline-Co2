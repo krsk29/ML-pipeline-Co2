{
 "cells": [
  {
   "cell_type": "code",
   "execution_count": 1,
   "metadata": {},
   "outputs": [],
   "source": [
    "from pyspark.sql import SparkSession\n",
    "from pyspark.sql.functions import isnan, when, count, col, udf\n",
    "from pyspark.sql.types import DoubleType\n",
    "\n",
    "import matplotlib.pyplot as plt\n",
    "from constants import LOGISTICS_DATA, MATERIALS_DATA, PROJECTS_DATA, SUPPLIERS_DATA, DATA, FINAL_DATA_parquet"
   ]
  },
  {
   "cell_type": "markdown",
   "metadata": {},
   "source": [
    "In this notbeook I do some durther preprocessing and data engineering. There are still questions I want to answer about the final data:\n",
    "\n",
    "- Data Summary: A statistical summary of the dataset's numerical columns (mean, median, standard deviation, min, max)\n",
    "- Cardinality of Categorical Features: Knowing how many unique values some of the categorical features have (e.g., transport_mode, project_location, supplier_location) can inform the feature engineering steps\n",
    "- Correlations: Understanding the correlation between the features, especially with the target variable (CO2_emissions) if it's a supervised learning problem"
   ]
  },
  {
   "cell_type": "code",
   "execution_count": 2,
   "metadata": {},
   "outputs": [],
   "source": [
    "from pyspark.sql import SparkSession\n",
    "\n",
    "spark = SparkSession.builder \\\n",
    "    .appName(\"CO2 Emission ML Pipeline - Data Preprocessing\") \\\n",
    "    .getOrCreate()\n"
   ]
  },
  {
   "cell_type": "markdown",
   "metadata": {},
   "source": [
    "DATA SUMMARY"
   ]
  },
  {
   "cell_type": "code",
   "execution_count": 6,
   "metadata": {},
   "outputs": [
    {
     "name": "stdout",
     "output_type": "stream",
     "text": [
      "+-----------+----------+------------------+--------------+----------------+--------+--------------+------------------+------------------+------------+------------------+----------------+----------------+-----------+-------------+-----------------+-------------+-----------------+---------------+\n",
      "|material_id|project_id|    project_budget|transaction_id|transaction_date|quantity|transport_mode|  distance_covered|      CO2_emission|project_name|project_start_date|project_end_date|project_location|supplier_id|material_name|material_category|supplier_name|supplier_location|supplier_rating|\n",
      "+-----------+----------+------------------+--------------+----------------+--------+--------------+------------------+------------------+------------+------------------+----------------+----------------+-----------+-------------+-----------------+-------------+-----------------+---------------+\n",
      "|        290|        32|248950.37356851666|             1|      2020-01-01|       2|          Rail|168.03861162671606|138.93697900745806|  Project_32|        2022-08-31|      2023-02-28|          City_D|          1| Material_290|           Binder|   Supplier_1|           City_E|            2.0|\n",
      "|        973|        62| 96226.48180300942|             2|      2020-01-01|      74|          Rail|338.22773781549853| 3824.832060462899|  Project_62|        2025-02-28|      2025-08-28|          City_A|          5| Material_973|       Structural|   Supplier_5|           City_F|            4.0|\n",
      "|        447|         1| 378840.8485445615|             3|      2020-01-01|      54|         Truck|378.67837987449303| 3683.671228786419|   Project_1|        2020-01-31|      2020-07-31|          City_D|          5| Material_447|           Binder|   Supplier_5|           City_F|            4.0|\n",
      "|         49|        90| 270037.4610087137|             4|      2020-01-01|      24|         Truck| 190.1561492269182| 1152.487399883585|  Project_90|        2027-06-30|      2027-12-30|          City_D|          6|  Material_49|           Binder|   Supplier_6|           City_E|            1.0|\n",
      "|        781|        52|152404.84224091633|             5|      2020-01-01|      10|         Truck| 410.9108264233291|   2677.8490194696|  Project_52|        2024-04-30|      2024-10-30|          City_A|          3| Material_781|           Binder|   Supplier_3|           City_G|            5.0|\n",
      "|         38|        42| 76142.59103470482|             6|      2020-01-01|      16|         Drone|277.85514705624684|1132.4382539264209|  Project_42|        2023-06-30|      2023-12-30|          City_A|         10|  Material_38|       Insulation|  Supplier_10|           City_F|            3.0|\n",
      "|        398|        68|214864.93793364422|             7|      2020-01-01|       7|         Truck|266.75006573668037| 336.6643318552656|  project_68|        2025-08-31|      2026-02-28|          City_A|          5| Material_398|           Binder|   Supplier_5|           City_F|            4.0|\n",
      "|         12|        91|249009.00211573683|             8|      2020-01-01|      66|         Truck|122.79639289470099| 3142.658146509346|  Project_91|        2027-07-31|      2028-01-31|          City_B|          2|  Material_12|       Insulation|   Supplier_2|           City_E|            5.0|\n",
      "|        170|        84| 462789.0637229991|             9|      2020-01-01|      65|         Truck|474.17383408650943| 7014.657344076113|  project_84|        2026-12-31|      2027-06-30|          City_B|          2| Material_170|       Structural|   Supplier_2|           City_E|            5.0|\n",
      "|        500|        43|111018.97531515686|            10|      2020-01-01|      58|          Rail|266.75006573668037| 6648.723846354253|  Project_43|        2023-07-31|      2024-01-31|          City_C|          5| Material_500|       Insulation|   Supplier_5|           City_F|            4.0|\n",
      "+-----------+----------+------------------+--------------+----------------+--------+--------------+------------------+------------------+------------+------------------+----------------+----------------+-----------+-------------+-----------------+-------------+-----------------+---------------+\n",
      "only showing top 10 rows\n",
      "\n"
     ]
    }
   ],
   "source": [
    "#reading df\n",
    "final_df = spark.read.parquet(FINAL_DATA_parquet)\n",
    "\n",
    "final_df.show(n=10)"
   ]
  },
  {
   "cell_type": "code",
   "execution_count": 5,
   "metadata": {},
   "outputs": [
    {
     "name": "stdout",
     "output_type": "stream",
     "text": [
      "Statistics for material_id:\n",
      "Mean: 496.76872549019606\n",
      "Max: 1000.0\n",
      "Min: 1.0\n",
      "Standard Deviation: 290.96310745073055\n",
      "Median: 497.0\n",
      "-----------------------\n",
      "Statistics for project_id:\n",
      "Mean: 50.42980392156863\n",
      "Max: 100.0\n",
      "Min: 1.0\n",
      "Standard Deviation: 28.75723049387397\n",
      "Median: 51.0\n",
      "-----------------------\n",
      "Statistics for project_budget:\n",
      "Mean: 295840.8306163639\n",
      "Max: 1950581.5483643755\n",
      "Min: 53805.64013990858\n",
      "Standard Deviation: 209570.71331281099\n",
      "Median: 270037.4610087137\n",
      "-----------------------\n",
      "Statistics for transaction_id:\n",
      "Mean: 5006.130980392157\n",
      "Max: 10000.0\n",
      "Min: 1.0\n",
      "Standard Deviation: 2884.331836773124\n",
      "Median: 5009.0\n",
      "-----------------------\n",
      "Statistics for transaction_date:\n",
      "Mean: None\n",
      "Max: None\n",
      "Min: None\n",
      "Standard Deviation: None\n",
      "Median: N/A\n",
      "-----------------------\n",
      "Statistics for quantity:\n",
      "Mean: 50.396470588235296\n",
      "Max: 99.0\n",
      "Min: 1.0\n",
      "Standard Deviation: 28.470351337471453\n",
      "Median: 50.0\n",
      "-----------------------\n",
      "Statistics for transport_mode:\n",
      "Mean: None\n",
      "Max: None\n",
      "Min: None\n",
      "Standard Deviation: None\n",
      "Median: N/A\n",
      "-----------------------\n",
      "Statistics for distance_covered:\n",
      "Mean: 304.99896981195866\n",
      "Max: 4989.07372254418\n",
      "Min: 10.00929808408966\n",
      "Standard Deviation: 409.6849422645481\n",
      "Median: 266.75006573668037\n",
      "-----------------------\n",
      "Statistics for CO2_emission:\n",
      "Mean: 3878.3788220057672\n",
      "Max: 22261.41573065918\n",
      "Min: 3.160525025280295\n",
      "Standard Deviation: 3808.2366286280417\n",
      "Median: 2677.8490194696\n",
      "-----------------------\n",
      "Statistics for project_name:\n",
      "Mean: None\n",
      "Max: None\n",
      "Min: None\n",
      "Standard Deviation: None\n",
      "Median: N/A\n",
      "-----------------------\n",
      "Statistics for project_start_date:\n",
      "Mean: None\n",
      "Max: None\n",
      "Min: None\n",
      "Standard Deviation: None\n",
      "Median: N/A\n",
      "-----------------------\n",
      "Statistics for project_end_date:\n",
      "Mean: None\n",
      "Max: None\n",
      "Min: None\n",
      "Standard Deviation: None\n",
      "Median: N/A\n",
      "-----------------------\n",
      "Statistics for project_location:\n",
      "Mean: None\n",
      "Max: None\n",
      "Min: None\n",
      "Standard Deviation: None\n",
      "Median: N/A\n",
      "-----------------------\n",
      "Statistics for supplier_id:\n",
      "Mean: 5.350294117647059\n",
      "Max: 10.0\n",
      "Min: 1.0\n",
      "Standard Deviation: 2.8873241523300095\n",
      "Median: 5.0\n",
      "-----------------------\n",
      "Statistics for material_name:\n",
      "Mean: None\n",
      "Max: None\n",
      "Min: None\n",
      "Standard Deviation: None\n",
      "Median: N/A\n",
      "-----------------------\n",
      "Statistics for material_category:\n",
      "Mean: None\n",
      "Max: None\n",
      "Min: None\n",
      "Standard Deviation: None\n",
      "Median: N/A\n",
      "-----------------------\n",
      "Statistics for supplier_name:\n",
      "Mean: None\n",
      "Max: None\n",
      "Min: None\n",
      "Standard Deviation: None\n",
      "Median: N/A\n",
      "-----------------------\n",
      "Statistics for supplier_location:\n",
      "Mean: None\n",
      "Max: None\n",
      "Min: None\n",
      "Standard Deviation: None\n",
      "Median: N/A\n",
      "-----------------------\n",
      "Statistics for supplier_rating:\n",
      "Mean: 3.364313725490196\n",
      "Max: 5.0\n",
      "Min: 1.0\n",
      "Standard Deviation: 1.5019747172923015\n",
      "Median: 4.0\n",
      "-----------------------\n"
     ]
    }
   ],
   "source": [
    "# Calculate summary statistics\n",
    "summary_stats = final_df.describe()\n",
    "\n",
    "# Fetch the statistics for each column from the summary DataFrame\n",
    "means = {row['summary']: row.asDict() for row in summary_stats.collect()}[\"mean\"]\n",
    "maxs = {row['summary']: row.asDict() for row in summary_stats.collect()}[\"max\"]\n",
    "mins = {row['summary']: row.asDict() for row in summary_stats.collect()}[\"min\"]\n",
    "stddevs = {row['summary']: row.asDict() for row in summary_stats.collect()}[\"stddev\"]\n",
    "\n",
    "# calculate median for each numerical column\n",
    "medians = {}\n",
    "for column in final_df.columns:\n",
    "    # Check if column is numerical by trying to cast it to a double; skip if casting fails (essentially changing the var type)\n",
    "    try:\n",
    "        final_df = final_df.withColumn(column, final_df[column].cast('double'))\n",
    "        medians[column] = final_df.approxQuantile(column, [0.5], 0.0)[0]\n",
    "    except Exception as e:\n",
    "        continue\n",
    "\n",
    "# Display stats for each column\n",
    "for column in final_df.columns:\n",
    "    if column in means:  # This checks if the column is numerical (present in the summary stats)\n",
    "        print(f\"Statistics for {column}:\")\n",
    "        print(f\"Mean: {means[column]}\")\n",
    "        print(f\"Max: {maxs[column]}\")\n",
    "        print(f\"Min: {mins[column]}\")\n",
    "        print(f\"Standard Deviation: {stddevs[column]}\")\n",
    "        print(f\"Median: {medians.get(column, 'N/A')}\")\n",
    "        print(\"--------------\")\n"
   ]
  },
  {
   "cell_type": "markdown",
   "metadata": {},
   "source": [
    "CARDINALITY: number of unique values for each of the specified categorical columns"
   ]
  },
  {
   "cell_type": "code",
   "execution_count": 9,
   "metadata": {},
   "outputs": [
    {
     "name": "stdout",
     "output_type": "stream",
     "text": [
      "Cardinality of transport_mode: 3\n",
      "Cardinality of project_location: 4\n",
      "Cardinality of supplier_location: 3\n"
     ]
    }
   ],
   "source": [
    "categorical_columns = [\"transport_mode\", \"project_location\", \"supplier_location\"]\n",
    "\n",
    "for column in categorical_columns:\n",
    "    distinct_count = final_df.select(column).distinct().count()\n",
    "    print(f\"Cardinality of {column}: {distinct_count}\")"
   ]
  },
  {
   "cell_type": "markdown",
   "metadata": {},
   "source": [
    "CORRELATION BETWEEN NUMERICAL FEATURES AND TARGET FEATURE CO2_EMISSIONS"
   ]
  },
  {
   "cell_type": "code",
   "execution_count": 15,
   "metadata": {},
   "outputs": [
    {
     "name": "stdout",
     "output_type": "stream",
     "text": [
      "The correlation between CO2_emissions and material_id is: 0.013309843960719402\n",
      "The correlation between CO2_emissions and project_id is: 0.015389057139567884\n",
      "The correlation between CO2_emissions and project_budget is: -0.008704442492230928\n",
      "The correlation between CO2_emissions and transaction_id is: 0.011334588931078056\n",
      "The correlation between CO2_emissions and quantity is: 0.5558180227071717\n",
      "The correlation between CO2_emissions and distance_covered is: 0.21013827019533382\n",
      "The correlation between CO2_emissions and supplier_id is: -0.01578169754900137\n",
      "The correlation between CO2_emissions and supplier_rating is: 0.00353117673371521\n"
     ]
    }
   ],
   "source": [
    "# List of features\n",
    "features = final_df.columns\n",
    "features.remove('CO2_emission')  # Remove the target variable\n",
    "\n",
    "# Calculate correlations with the target variable\n",
    "correlations = [(feature, final_df.stat.corr(feature, 'CO2_emission')) for feature in features if final_df.select(feature).dtypes[0][1] in ('double', 'int')]\n",
    "\n",
    "for feature in correlations:\n",
    "    print(f\"The correlation between CO2_emissions and {feature[0]} is: {feature[1]}\")"
   ]
  },
  {
   "cell_type": "code",
   "execution_count": null,
   "metadata": {},
   "outputs": [],
   "source": []
  }
 ],
 "metadata": {
  "kernelspec": {
   "display_name": "MLops-venv",
   "language": "python",
   "name": "python3"
  },
  "language_info": {
   "codemirror_mode": {
    "name": "ipython",
    "version": 3
   },
   "file_extension": ".py",
   "mimetype": "text/x-python",
   "name": "python",
   "nbconvert_exporter": "python",
   "pygments_lexer": "ipython3",
   "version": "3.11.0"
  }
 },
 "nbformat": 4,
 "nbformat_minor": 2
}
