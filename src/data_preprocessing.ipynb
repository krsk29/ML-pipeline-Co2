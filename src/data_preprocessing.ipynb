{
 "cells": [
  {
   "cell_type": "code",
   "execution_count": 11,
   "metadata": {},
   "outputs": [],
   "source": [
    "import pandas as pd\n",
    "import matplotlib.pyplot as plt\n",
    "from constants import LOGISTICS_DATA, MATERIALS_DATA, PROJECTS_DATA, SUPPLIERS_DATA"
   ]
  },
  {
   "cell_type": "code",
   "execution_count": 12,
   "metadata": {},
   "outputs": [],
   "source": [
    "# Read the CSV files\n",
    "materials_df = pd.read_csv(MATERIALS_DATA)\n",
    "logistics_df = pd.read_csv(LOGISTICS_DATA)\n",
    "projects_df = pd.read_csv(PROJECTS_DATA)\n",
    "suppliers_df = pd.read_csv(SUPPLIERS_DATA)"
   ]
  },
  {
   "cell_type": "code",
   "execution_count": 14,
   "metadata": {},
   "outputs": [],
   "source": [
    "# For 'distance_covered' and 'CO2_emission' in logistics data, I use median due to the skewness as demonstrated in data_ingestion.ipynb:\n",
    "logistics_df['distance_covered'].fillna(logistics_df['distance_covered'].median(), inplace=True)\n",
    "logistics_df['CO2_emission'].fillna(logistics_df['CO2_emission'].median(), inplace=True)\n",
    "\n",
    "# For 'supplier_rating' in logistics data since it's missing entirely I either drop the column or fill with a default value (like median from the suppliers_df).\n",
    "logistics_df['supplier_rating'].fillna(suppliers_df['supplier_rating'].median(), inplace=True)\n",
    "\n",
    "# For 'project_budget' in projects data, I use median due to the skewness as demonstrated in data_ingestion.ipynb:\n",
    "projects_df['project_budget'].fillna(projects_df['project_budget'].median(), inplace=True)\n",
    "\n",
    "# For 'project_budget' in logistics data, we can use the corresponding value from the projects dataframe:\n",
    "budget_mapping = dict(projects_df[['project_id', 'project_budget']].values)\n",
    "logistics_df['project_budget'].fillna(logistics_df['project_id'].map(budget_mapping), inplace=True)\n",
    "\n"
   ]
  },
  {
   "cell_type": "code",
   "execution_count": 18,
   "metadata": {},
   "outputs": [
    {
     "name": "stdout",
     "output_type": "stream",
     "text": [
      "Materials Data:\n",
      " Length: 1000 \n",
      "Missing Values:\n",
      " material_id          0\n",
      "material_name        0\n",
      "material_category    0\n",
      "supplier_id          0\n",
      "dtype: int64 \n",
      "\n",
      "Logistics Data:\n",
      " Length: 10200 \n",
      "Missing Values:\n",
      " transaction_id      0\n",
      "project_id          0\n",
      "material_id         0\n",
      "transaction_date    0\n",
      "quantity            0\n",
      "transport_mode      0\n",
      "distance_covered    0\n",
      "CO2_emission        0\n",
      "supplier_rating     0\n",
      "project_budget      0\n",
      "dtype: int64 \n",
      "\n",
      "Projects Data:\n",
      " Length: 100 \n",
      "Missing Values:\n",
      " project_id            0\n",
      "project_name          0\n",
      "project_start_date    0\n",
      "project_end_date      0\n",
      "project_location      0\n",
      "project_budget        0\n",
      "dtype: int64 \n",
      "\n",
      "Suppliers Data:\n",
      " Length: 10 \n",
      "Missing Values:\n",
      " supplier_id          0\n",
      "supplier_name        0\n",
      "supplier_location    0\n",
      "supplier_rating      0\n",
      "dtype: int64 \n",
      "\n"
     ]
    }
   ],
   "source": [
    "# checking to see if there's any null values left:\n",
    "# Check for missing values and dataset length\n",
    "print(\"Materials Data:\\n\", \"Length:\", len(materials_df), \"\\nMissing Values:\\n\", materials_df.isnull().sum(), \"\\n\")\n",
    "print(\"Logistics Data:\\n\", \"Length:\", len(logistics_df), \"\\nMissing Values:\\n\", logistics_df.isnull().sum(), \"\\n\")\n",
    "print(\"Projects Data:\\n\", \"Length:\", len(projects_df), \"\\nMissing Values:\\n\", projects_df.isnull().sum(), \"\\n\")\n",
    "print(\"Suppliers Data:\\n\", \"Length:\", len(suppliers_df), \"\\nMissing Values:\\n\", suppliers_df.isnull().sum(), \"\\n\")"
   ]
  },
  {
   "cell_type": "code",
   "execution_count": null,
   "metadata": {},
   "outputs": [],
   "source": []
  },
  {
   "cell_type": "code",
   "execution_count": null,
   "metadata": {},
   "outputs": [],
   "source": []
  }
 ],
 "metadata": {
  "kernelspec": {
   "display_name": "MLops-venv",
   "language": "python",
   "name": "python3"
  },
  "language_info": {
   "codemirror_mode": {
    "name": "ipython",
    "version": 3
   },
   "file_extension": ".py",
   "mimetype": "text/x-python",
   "name": "python",
   "nbconvert_exporter": "python",
   "pygments_lexer": "ipython3",
   "version": "3.11.0"
  },
  "orig_nbformat": 4
 },
 "nbformat": 4,
 "nbformat_minor": 2
}
